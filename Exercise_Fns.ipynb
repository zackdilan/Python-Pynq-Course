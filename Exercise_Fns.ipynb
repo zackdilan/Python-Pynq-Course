{
 "cells": [
  {
   "cell_type": "markdown",
   "metadata": {},
   "source": [
    "# Exercises"
   ]
  },
  {
   "cell_type": "markdown",
   "metadata": {},
   "source": [
    "**Sample**\n",
    "\n",
    "Write a function that calculates the area of a circle from a its radius. (Remember area of circle = pi*r^2)\n",
    "\n",
    "Input: find_area (10) ---> Output: 314.16"
   ]
  },
  {
   "cell_type": "markdown",
   "metadata": {},
   "source": [
    "**Area of circle Solution**\n"
   ]
  },
  {
   "cell_type": "code",
   "execution_count": 13,
   "metadata": {},
   "outputs": [
    {
     "data": {
      "text/plain": [
       "314.2857142857143"
      ]
     },
     "execution_count": 13,
     "metadata": {},
     "output_type": "execute_result"
    }
   ],
   "source": [
    "def find_area(r):\n",
    "    pi = 22/7\n",
    "    return pi*(r**2)\n",
    "\n",
    "find_area(10)"
   ]
  },
  {
   "cell_type": "markdown",
   "metadata": {},
   "source": [
    "**Problem - 1**\n",
    "\n",
    "Write a function that calculates the Fibonacci numbers from 0 to a user defined number.\n",
    "\n",
    "Input: Fibonacci (10) ---> Output: 0, 1, 1, 2, 3, 5, 8"
   ]
  },
  {
   "cell_type": "markdown",
   "metadata": {},
   "source": [
    "**Feboncci sequence Solution**\n",
    "\n",
    "Method1:"
   ]
  },
  {
   "cell_type": "code",
   "execution_count": 1,
   "metadata": {},
   "outputs": [
    {
     "name": "stdout",
     "output_type": "stream",
     "text": [
      "Fibonachi sequence is:\n",
      "0 , 1,  1,  2,  3,  5,  8"
     ]
    }
   ],
   "source": [
    "def febo_func(max_value):\n",
    "  f1, f2 = 0, 1   # those are fixed values in the sequence. Therefore, they are defined as constants.\n",
    "  new_f = 0       # Initialized and prepared to be updated with the sum of previous two values in the sequence.\n",
    "  print(\"Fibonachi sequence is:\")\n",
    "  #handling the cases 0 and 1 of the user input:\n",
    "  if max_value == 0:\n",
    "    print(f1)\n",
    "  elif max_value ==1:\n",
    "    print(f1, f2)\n",
    "  else:          # Here, notice that \"else\" accepts the nagative values, which is not correct. This should be handled when you handle the errors in the user input.\n",
    "    print(f1, ',', f2, end= '')  # If you do not define the \"end= ''\" part, it is set by default to a new line.\n",
    "    new_f = f1+f2\n",
    "    while(new_f <= max_value):\n",
    "      print(', ', new_f, end= '')\n",
    "      f1=f2\n",
    "      f2 = new_f          # Remember that you can do the assignment also in the same line: f1, f2 = f2, f_new\n",
    "      new_f = f1+f2\n",
    "      \n",
    "\n",
    "#---------------------\n",
    "\n",
    "\n",
    "febo_func(11) "
   ]
  },
  {
   "cell_type": "markdown",
   "metadata": {},
   "source": [
    "**Feboncci sequesnce**\n",
    "\n",
    "Method2: with a recursive function"
   ]
  },
  {
   "cell_type": "code",
   "execution_count": 2,
   "metadata": {},
   "outputs": [
    {
     "name": "stdout",
     "output_type": "stream",
     "text": [
      "please enter the maximum value you wish: 5\n",
      "0\n",
      "1\n",
      "1\n",
      "2\n",
      "3\n",
      "5\n"
     ]
    }
   ],
   "source": [
    "def recursive_febo(n):\n",
    "  if n <= 1:      # Notice that this does not handle the nagative input\n",
    "    return n\n",
    "  else:\n",
    "    return(recursive_febo(n-1)+ recursive_febo(n-2))\n",
    "\n",
    "\n",
    "max_val = int(input(\"please enter the maximum value you wish: \"))\n",
    "febo_element = 0     # Initialized with 0 to force the sequesnce to start from here. Later this will be updated by adding 1 in each loop.\n",
    "while (recursive_febo(febo_element) <= max_val):\n",
    "  print(recursive_febo(febo_element))     # instead of calling the function \"recursive_febo\" two times, it is better to assign it to a variable once and then use that variable.\n",
    "  febo_element += 1"
   ]
  },
  {
   "cell_type": "markdown",
   "metadata": {},
   "source": [
    "**Problem - 2**\n",
    "\n",
    "Write a function that outputs a specific Fibonacci number. The index of the number in the sequence is determined by the user.\n",
    "\n",
    "Input: Fibonacci (7) ---> Output: “The 7th Fibonacci number is 13”"
   ]
  },
  {
   "cell_type": "markdown",
   "metadata": {},
   "source": [
    "**Feboncci specific value Solution**\n"
   ]
  },
  {
   "cell_type": "code",
   "execution_count": 4,
   "metadata": {},
   "outputs": [
    {
     "name": "stdout",
     "output_type": "stream",
     "text": [
      "Please enter the order of the desired Febonacci number: 10\n",
      "The 10th Fibonacci number is 34\n",
      "Do you eant to continue? [y/n]: y\n",
      "Please enter the order of the desired Febonacci number: 5\n",
      "The 5th Fibonacci number is 3\n",
      "Do you eant to continue? [y/n]: n\n"
     ]
    }
   ],
   "source": [
    "def recursive_febo(n):    # Using the same function as in the previous method.\n",
    "  if n <= 1:\n",
    "    return n\n",
    "  else:\n",
    "    return(recursive_febo(n-1)+ recursive_febo(n-2))\n",
    "\n",
    "continue_flag = True     # The flag s used to enhance the user interaction and stop the program by the use, rather than automatically.\n",
    "while continue_flag != False:\n",
    "  febo_element = int(input(\"Please enter the order of the desired Febonacci number: \"))\n",
    "  if febo_element <= 0:    # Here. the negative values are handled.\n",
    "    print(\"Invalid index. Please enter a positive number.\")\n",
    "    continue     # to alllows th user enter a other number without stopping the program.\n",
    "  else:\n",
    "    print(\"The {}th Fibonacci number is {}\".format(febo_element, recursive_febo(febo_element-1)))  # \".format\" uses the positions of \"{}\" and aligns it with the positions of the variables.\n",
    "  cont = input(\"Do you eant to continue? [y/n]: \")   # [y/n] is used to inform the user of acceptable inputs.\n",
    "  if \"n\" in cont or \"N\" in cont:    # User input can have many values. You may want to handle the erros in this responce as well.\n",
    "    continue_flag = False\n"
   ]
  },
  {
   "cell_type": "markdown",
   "metadata": {},
   "source": [
    "**Problem - 3**\n",
    "\n",
    "Write a function that calculates the factorial of a used defined number.\n",
    "\n",
    "Input: Factorial (5) ---> Output: 120"
   ]
  },
  {
   "cell_type": "markdown",
   "metadata": {},
   "source": [
    "**Factorial of a certain number Solution**\n"
   ]
  },
  {
   "cell_type": "code",
   "execution_count": 7,
   "metadata": {},
   "outputs": [
    {
     "name": "stdout",
     "output_type": "stream",
     "text": [
      "Input a number to compute the factiorial : 5\n",
      "The factorial of 5 is 120\n"
     ]
    }
   ],
   "source": [
    "def my_factorial(n):\n",
    "    if n == 0:\n",
    "        return 1\n",
    "    else:\n",
    "        return n * my_factorial(n-1)\n",
    "\n",
    "\n",
    "fact_number = int(input(\"Input a number to compute the factiorial : \"))\n",
    "if fact_number <= 0:\n",
    "    print(\"Invalid number. Please enter a positive number.\")   # In this case, the program will stop, unlike he previous example.\n",
    "else:\n",
    "  print(\"The factorial of {} is {}\".format(fact_number, my_factorial(fact_number)))"
   ]
  },
  {
   "cell_type": "markdown",
   "metadata": {},
   "source": [
    "Do not forget that you can also use the built.in factorial function in \"math\":"
   ]
  },
  {
   "cell_type": "code",
   "execution_count": 8,
   "metadata": {},
   "outputs": [
    {
     "name": "stdout",
     "output_type": "stream",
     "text": [
      "Input a number to compute the factiorial : 5\n",
      "The factorial of 5 is 120\n"
     ]
    }
   ],
   "source": [
    "import math \n",
    "\n",
    "fact_number = int(input(\"Input a number to compute the factiorial : \"))\n",
    "if fact_number <= 0:\n",
    "    print(\"Invalid number. Please enter a positive number.\")\n",
    "else:\n",
    "  print(\"The factorial of {} is {}\".format(fact_number, math.factorial(fact_number)))"
   ]
  },
  {
   "cell_type": "markdown",
   "metadata": {},
   "source": [
    "**Problem - 4**\n",
    "\n",
    "Write a function that outputs the steps of calculating the factorial of a number.\n",
    "\n",
    "Input: Factorial (5) ---> Output: “The Factorial of 5 is: 5*4*3*2*1 = 120”"
   ]
  },
  {
   "cell_type": "markdown",
   "metadata": {},
   "source": [
    "**Factorial of a certain number with calculation steps Solution**"
   ]
  },
  {
   "cell_type": "code",
   "execution_count": 9,
   "metadata": {},
   "outputs": [
    {
     "name": "stdout",
     "output_type": "stream",
     "text": [
      "Input a number to compute the factiorial : 5\n",
      "The factorial of 5 is: 5*4*3*2*1 = 120\n"
     ]
    }
   ],
   "source": [
    "def my_factorial(n):\n",
    "    if n == 0:\n",
    "        return 1\n",
    "    else:\n",
    "        return n * my_factorial(n-1)\n",
    "\n",
    "\n",
    "fact_number = int(input(\"Input a number to compute the factiorial : \"))\n",
    "if fact_number <= 0:\n",
    "    print(\"Invalid number. Please enter a positive number.\")\n",
    "else:\n",
    "  calculation_steps_string = \"\"                # This is the string where the calculation steps will be added. Since the calculation is standard in Factorials, we can utilize that to modofy the string independently from the \"my_factorial\" function. You can, however, build this string when you do the calsulation inside the function.\n",
    "  for i in range(fact_number, 1, -1):    \n",
    "    calculation_steps_string += str(i) + \"*\"   # This is anothe method to build strings. It depends of the \"+\" sign to construct a string from multiple strings. Notice that although you can use \"+\" to combine strings, you can NOT use \"-\" to remove characters from a string. This is because strings as immutable.\n",
    "  calculation_steps_string += \"1\"              # Here, again, we use our knowledge about the sequence, and ent it with \"1\" always.\n",
    "  print(\"The factorial of {} is: {} = {}\".format(fact_number, calculation_steps_string, my_factorial(fact_number)))"
   ]
  },
  {
   "cell_type": "markdown",
   "metadata": {},
   "source": [
    "**Problem - 5**\n",
    "\n",
    "Write a program that works as a student management system. The student gets the following list of options:\n",
    "\n",
    "<br>1- Enter a new student.\n",
    "<br>2- Search for a student.\n",
    "<br>3- Enter new mark for a student.\n",
    "<br>4- Calculate your average.\n",
    "\n",
    "<br>• Define each of the previous steps as a function, which is called to perform the respective task.\n",
    "<br>• Handle the following error cases:\n",
    "\n",
    "<br>1- Entering wrong data type\n",
    "<br>2- Choosing wrong options."
   ]
  },
  {
   "cell_type": "markdown",
   "metadata": {},
   "source": [
    "**Student management system**\n",
    "\n",
    "Method1: using data structures (lists, tuples, distionaries, sets)"
   ]
  },
  {
   "cell_type": "code",
   "execution_count": 10,
   "metadata": {},
   "outputs": [
    {
     "name": "stdout",
     "output_type": "stream",
     "text": [
      "\n",
      "  please choose what you want to do:\n",
      "  1- Add new student.\n",
      "  2- Search for a student.\n",
      "  3- Enter new mark for a student.\n",
      "  4- Calculate student's average\n",
      "  5- exit.\n",
      "  \n",
      "Please choos a number of the list: 1\n",
      "please enter the student's name: Aswath\n",
      "enter first grade: 5\n",
      "enter second grade: 5\n",
      "[{'Name': 'Aswath', 'Grades': [5, 5]}]\n",
      "\n",
      "  please choose what you want to do:\n",
      "  1- Add new student.\n",
      "  2- Search for a student.\n",
      "  3- Enter new mark for a student.\n",
      "  4- Calculate student's average\n",
      "  5- exit.\n",
      "  \n",
      "Please choos a number of the list: 2\n",
      "Eater the name of the studet you are searching for: Aswath\n",
      " Student is found! Student information is:  {'Name': 'Aswath', 'Grades': [5, 5]}\n",
      "\n",
      "  please choose what you want to do:\n",
      "  1- Add new student.\n",
      "  2- Search for a student.\n",
      "  3- Enter new mark for a student.\n",
      "  4- Calculate student's average\n",
      "  5- exit.\n",
      "  \n",
      "Please choos a number of the list: 3\n",
      "Please enter the name f the student to change their grades: Aswath\n",
      "enter the first new grade: 10\n",
      "enter the second new grade: 80\n",
      "{'Name': 'Aswath', 'Grades': [10, 80]}\n",
      "\n",
      "  please choose what you want to do:\n",
      "  1- Add new student.\n",
      "  2- Search for a student.\n",
      "  3- Enter new mark for a student.\n",
      "  4- Calculate student's average\n",
      "  5- exit.\n",
      "  \n",
      "Please choos a number of the list: 4\n",
      "Eater the name of the studet to alculate the average: A\n",
      "\n",
      "  please choose what you want to do:\n",
      "  1- Add new student.\n",
      "  2- Search for a student.\n",
      "  3- Enter new mark for a student.\n",
      "  4- Calculate student's average\n",
      "  5- exit.\n",
      "  \n",
      "Please choos a number of the list: 5\n"
     ]
    }
   ],
   "source": [
    "# In this sample solution, the student will be a distionary: \"student_dict = {'Name':'', 'Grades':[]}\". While the data set will be a list of those dictionaries: \"student_list =[]\"\n",
    "# Anothe effective way is to use a dictionary for the data set. The keys of this dictionary are the studnt IDs and the values are the names and grades of wach student. Those names and grades can wither be added as lists or dictionaries.\n",
    "\n",
    "\n",
    "# Function definitions:\n",
    "\n",
    "def add_new_student():\n",
    "  student_dict = {'Name':'', 'Grades':[]}\n",
    "\n",
    "  student_name = input(\"Please enter the student's name: \")\n",
    "  \n",
    "  student_gade_1 = int(input(\"Enter first grade: \"))\n",
    "  student_gade_2 = int(input(\"Enter second grade: \"))    # Here, the number of grades is limited to 2. You can make it more by adding a loop for entering a variable number of grades.\n",
    "\n",
    "  student_dict[\"Name\"] = student_name\n",
    "  student_dict[\"Grades\"] = [student_gade_1, student_gade_2]\n",
    "\n",
    "  return student_dict\n",
    "\n",
    "\n",
    "def find_student(st_list):\n",
    "  st_name = input(\"Enter the name of the student you are searching for: \")\n",
    "  for student in st_list:\n",
    "    if student[\"Name\"] == st_name:\n",
    "      print(\" Student is found! Student information is: \", student)   \n",
    "      # Notice that the case where the student is not found is not handled here. To handle this case, you can add a flag that changes its value when the student is not found and prints a message about it.\n",
    "\n",
    "\n",
    "def change_student_grades(stu, stu_list):\n",
    "  for student in stu_list:\n",
    "    if student[\"Name\"] == stu:\n",
    "      new_grade_1 = int(input(\"enter the first new grade: \"))\n",
    "      new_grade_2 = int(input(\"enter the second new grade: \"))\n",
    "      student['Grades'] = [new_grade_1, new_grade_2]\n",
    "      print(student)\n",
    "\n",
    "\n",
    "def calculate_student_averge():\n",
    "    global student_list    # This is to inform the fuction of using the global \"student_list\", rather than defining a new list with the same name.\n",
    "    st_name = input(\"Enter the name of the student to calculate the average: \")\n",
    "    for student in student_list:\n",
    "      if student[\"Name\"] == st_name:\n",
    "        average = sum(student['Grades']) / len(student['Grades'])\n",
    "        print(student[\"Name\"] + \"'s average is: \" + str(average))   # Using the \"+\" to construct the final string. Keep in mind that each part MUST be a string.\n",
    "\n",
    "\n",
    "# main program:\n",
    "\n",
    "student_list =[]    # This list is better to be initialized only once. This allows you to keep the previous data even after th pfogram stops.\n",
    "stop = False        # to stop the program manually by the user.\n",
    "\n",
    "while (stop != True):\n",
    "  print(\"\"\"\n",
    "  please choose what you want to do:\n",
    "  1- Add new student.\n",
    "  2- Search for a student.\n",
    "  3- Enter new mark for a student.\n",
    "  4- Calculate student's average\n",
    "  5- exit.\n",
    "  \"\"\")\n",
    "  user_choice = int(input(\"Please choose a number of the list: \"))\n",
    "  if user_choice == 1:\n",
    "    student_list.append(add_new_student())     # Notice that the functionality of asking for the students name can be written either in the mainprogram or inside the function. \n",
    "    print(student_list)\n",
    "\n",
    "  elif user_choice == 2:\n",
    "    find_student(student_list)   # Here the list is parsed to the function.\n",
    "\n",
    "  elif user_choice == 3:\n",
    "    st_name = input(\"Please enter the name of the student to change their grades: \")\n",
    "    change_student_grades(st_name, student_list) \n",
    "\n",
    "  elif user_choice ==4:\n",
    "    calculate_student_averge()  # Here the function uses the global list.\n",
    "\n",
    "  elif user_choice ==5:\n",
    "    stop = True\n",
    " \n",
    "  else:   # to handle the wrng choice from the list.\n",
    "    print(\"Invalis choice!\")\n",
    "    continue\n",
    "\n",
    "# The error handling is not included in this code for the sake of simplisity. You can check the expected user input and handle each input's error within the code.\n"
   ]
  },
  {
   "cell_type": "markdown",
   "metadata": {},
   "source": [
    "**Student management system**\n",
    "\n",
    "Method2: using OOP "
   ]
  },
  {
   "cell_type": "code",
   "execution_count": 12,
   "metadata": {},
   "outputs": [
    {
     "name": "stdout",
     "output_type": "stream",
     "text": [
      "\n",
      "  please choose what you want to do:\n",
      "  1- Add new student.\n",
      "  2- Search for a student.\n",
      "  3- Enter new mark for a student.\n",
      "  4- Calculate student's average\n",
      "  5- exit.\n",
      "  \n",
      "Please choose an option from the list: 1\n",
      "please enter the student's name: Robin\n",
      "enter first grade: 10\n",
      "enter second grade: 20\n",
      "\n",
      "  please choose what you want to do:\n",
      "  1- Add new student.\n",
      "  2- Search for a student.\n",
      "  3- Enter new mark for a student.\n",
      "  4- Calculate student's average\n",
      "  5- exit.\n",
      "  \n",
      "Please choose an option from the list: 2\n",
      "Eater the name of the studet you are searching for: Robin\n",
      "Student is found!\n",
      "Student's Name: Robin Student's grades: [10, 20]\n",
      "\n",
      "  please choose what you want to do:\n",
      "  1- Add new student.\n",
      "  2- Search for a student.\n",
      "  3- Enter new mark for a student.\n",
      "  4- Calculate student's average\n",
      "  5- exit.\n",
      "  \n",
      "Please choose an option from the list: 5\n"
     ]
    }
   ],
   "source": [
    "student_class_list = []   #The same data set concept is also used here. A list of student objects\n",
    "\n",
    "# Class definition:\n",
    "\n",
    "class Student:\n",
    "  def __init__(self, name, grades):\n",
    "    self.name = name\n",
    "    self.grades = grades\n",
    " \n",
    "  # Methods of the class are chosen to be the ones that perform a change to the object itself.\n",
    "  def change_student_grades(self, new_grades):\n",
    "    self.grades = new_grades\n",
    "    #self.grades.append(new_grades)  # this option can be used if the number of grades is not limited or unknown\n",
    "\n",
    "  def calculate_student_average(self):\n",
    "    average = (sum(self.grades) / len(self.grades))\n",
    "    print(self.name + \"'s average is: \" + str(average))\n",
    "\n",
    "\n",
    "\n",
    "# Function definitions:  Here the functions are chosen to be outside the class definition since they do not perform a task on the student object itself, but rather on other structures that handle that object, e.g. the list of objects.\n",
    "\n",
    "def add_new_student():\n",
    "\n",
    "  student_name = input(\"Please enter the student's name: \")\n",
    "  \n",
    "  student_gade_1 = int(input(\"Enter first grade: \"))\n",
    "  student_gade_2 = int(input(\"Enter second grade: \"))\n",
    "\n",
    "  st = Student(student_name, [student_gade_1, student_gade_2])\n",
    "\n",
    "  return st\n",
    "\n",
    "\n",
    "\n",
    "def find_student(st_list):\n",
    "  st_name = input(\"Enter the name of the student you are searching for: \")\n",
    "  for student in st_list:      # Make sure that the iterator \"student\" in th \"for\" loop is not the class name \"Student\". Otherwise, the interpretor will not recognize it.\n",
    "    if student.name == st_name:\n",
    "      print(\"Student is found!\")\n",
    "      print(\"Student's Name:\", student.name, \"Student's grades:\", student.grades)\n",
    "\n",
    "\n",
    "\n",
    "\n",
    "# main program:\n",
    "\n",
    "stop = False\n",
    "while (stop != True):\n",
    "  print(\"\"\"\n",
    "  please choose what you want to do:\n",
    "  1- Add new student.\n",
    "  2- Search for a student.\n",
    "  3- Enter new mark for a student.\n",
    "  4- Calculate student's average\n",
    "  5- exit.\n",
    "  \"\"\")\n",
    "  user_choice = int(input(\"Please choose an option from the list: \"))\n",
    "  if user_choice == 1:\n",
    "    student_class_list.append(add_new_student())\n",
    "    #print(student_list)\n",
    "\n",
    "  elif user_choice == 2:\n",
    "    find_student(student_class_list)\n",
    "\n",
    "  elif user_choice == 3:\n",
    "    stu_name = input(\"please enter the student's name: \")\n",
    "    for student in student_class_list:\n",
    "      if student.name == stu_name:\n",
    "          student_grade_1 = int(input(\"Enter first grade: \"))\n",
    "          student_grade_2 = int(input(\"Enter second grade: \"))\n",
    "          student.change_student_grades([student_grade_1, student_grade_2])\n",
    "          print(\"Student\", student.name, \"updated with grades:\", student.grades)\n",
    "\n",
    "  elif user_choice == 4:\n",
    "    st_name = input(\"Enter the name of the student to calculate the average: \")\n",
    "    for student in student_class_list:\n",
    "      if student.name == st_name:\n",
    "        Student.calculate_student_average(student)  # Notice here calling the method by the class name itself, rather than the object. The object is then parsed to the method as the \"self\" input argument.\n",
    "\n",
    "  elif user_choice == 5:\n",
    "    stop = True\n",
    "\n",
    "  else:   # to handle the wrng choice from the list.\n",
    "    print(\"Invalid choice!\")\n",
    "    continue\n"
   ]
  },
  {
   "cell_type": "code",
   "execution_count": null,
   "metadata": {},
   "outputs": [],
   "source": []
  }
 ],
 "metadata": {
  "kernelspec": {
   "display_name": "Python 3",
   "language": "python",
   "name": "python3"
  },
  "language_info": {
   "codemirror_mode": {
    "name": "ipython",
    "version": 3
   },
   "file_extension": ".py",
   "mimetype": "text/x-python",
   "name": "python",
   "nbconvert_exporter": "python",
   "pygments_lexer": "ipython3",
   "version": "3.8.5"
  }
 },
 "nbformat": 4,
 "nbformat_minor": 4
}
